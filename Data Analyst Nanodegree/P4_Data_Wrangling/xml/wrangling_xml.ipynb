{
 "cells": [
  {
   "cell_type": "markdown",
   "metadata": {},
   "source": [
    "# Wrangling XML\n",
    "An example to show how to extract data from an xml file and add them to a list."
   ]
  },
  {
   "cell_type": "code",
   "execution_count": null,
   "metadata": {},
   "outputs": [],
   "source": [
    "import xml.etree.ElementTree as ET\n",
    "\n",
    "article_file = \"exampleResearchArticle.xml\"\n",
    "\n",
    "# Create a function to get the root of the xml file.\n",
    "def get_root(fname):\n",
    "    tree = ET.parse(fname)\n",
    "    return tree.getroot()\n",
    "\n",
    "# Create a function to extract authors data from the xml file and add them to a list of dicts.\n",
    "def get_authors(root):\n",
    "    authors = []\n",
    "    for author in root.findall('./fm/bibl/aug/au'):\n",
    "        data = {\n",
    "                'fnm': None,\n",
    "                'snm': None,\n",
    "                'email': None,\n",
    "                'insr': []\n",
    "        }\n",
    "\n",
    "        data['fnm'] = author.find('fnm').text\n",
    "        data['snm'] = author.find('snm').text\n",
    "        data['email'] = author.find('email').text\n",
    "        for i in author.findall('insr'):\n",
    "            data['insr'].append(i.attrib['iid'])\n",
    "\n",
    "        authors.append(data)\n",
    "\n",
    "    return authors\n",
    "\n",
    "root = get_root(article_file)\n",
    "data = get_authors(root)\n",
    "print(data)"
   ]
  }
 ],
 "metadata": {
  "kernelspec": {
   "display_name": "Python 3",
   "language": "python",
   "name": "python3"
  },
  "language_info": {
   "codemirror_mode": {
    "name": "ipython",
    "version": 3
   },
   "file_extension": ".py",
   "mimetype": "text/x-python",
   "name": "python",
   "nbconvert_exporter": "python",
   "pygments_lexer": "ipython3",
   "version": "3.7.9"
  }
 },
 "nbformat": 4,
 "nbformat_minor": 2
}
