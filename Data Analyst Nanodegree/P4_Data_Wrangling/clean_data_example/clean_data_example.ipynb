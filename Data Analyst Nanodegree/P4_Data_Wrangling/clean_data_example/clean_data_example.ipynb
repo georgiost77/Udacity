{
 "cells": [
  {
   "cell_type": "markdown",
   "metadata": {},
   "source": [
    "# Clean Data Example\n",
    "An example to show how to use regular expressions to clean data in an OSM file, an OpenStreetMap data file downloaded from [Mapzen](https://mapzen.com/data/metro-extracts/)."
   ]
  },
  {
   "cell_type": "code",
   "execution_count": null,
   "metadata": {},
   "outputs": [],
   "source": [
    "from zipfile import ZipFile\n",
    "import xml.etree.ElementTree as ET\n",
    "from collections import defaultdict\n",
    "import re\n",
    "\n",
    "filename = 'southampton_england.osm.zip'\n",
    "\n",
    "# # Create a function that opens the zip file.\n",
    "# # Extract all members from the archive to the current working directory.\n",
    "# def extract_zip(fname):\n",
    "#     with ZipFile(fname, 'r') as myzip:\n",
    "#         myzip.extractall()\n",
    "# extract_zip(filename)\n",
    "# osm_file = 'southampton_england.osm'\n",
    "\n",
    "# Open the zipped file.\n",
    "with ZipFile(filename, 'r') as zfile:\n",
    "    unzippedfile = zfile.open('southampton_england.osm')\n",
    "\n",
    "osm_file = unzippedfile\n",
    "\n",
    "# Use re.compile() and save the resulting regular expression object for reuse.\n",
    "street_type_re = re.compile(r'\\S+\\.?$', re.IGNORECASE)\n",
    "\n",
    "# Create a defaultdict (a normal dict, but will never raise a KeyError for a nonexistent key).\n",
    "street_types = defaultdict(int)\n",
    "\n",
    "def audit_street_type(street_types, street_name):\n",
    "    m = street_type_re.search(street_name)\n",
    "    if m:\n",
    "        street_type = m.group()\n",
    "        street_types[street_type] += 1\n",
    "\n",
    "def print_sorted_dict(d):\n",
    "    keys = d.keys()\n",
    "    # Use lambda function to specify lower() directly, inline in the sorted() expression.\n",
    "    keys = sorted(keys, key=lambda s: s.lower())\n",
    "    for k in keys:\n",
    "        v = d[k]\n",
    "        print(\"%s: %d\" % (k, v)) \n",
    "\n",
    "def is_street_name(elem):\n",
    "    return (elem.tag == \"tag\") and (elem.attrib['k'] == \"addr:street\")\n",
    "\n",
    "def audit():\n",
    "    # Parse the XML section into element tree incrementally. Useful for large files.\n",
    "    for event, elem in ET.iterparse(osm_file):\n",
    "        if is_street_name(elem):\n",
    "            audit_street_type(street_types, elem.attrib['v'])    \n",
    "    print_sorted_dict(street_types)    \n",
    "\n",
    "if __name__ == '__main__':\n",
    "    audit()"
   ]
  }
 ],
 "metadata": {
  "kernelspec": {
   "display_name": "Python 3",
   "language": "python",
   "name": "python3"
  },
  "language_info": {
   "codemirror_mode": {
    "name": "ipython",
    "version": 3
   },
   "file_extension": ".py",
   "mimetype": "text/x-python",
   "name": "python",
   "nbconvert_exporter": "python",
   "pygments_lexer": "ipython3",
   "version": "3.7.9"
  }
 },
 "nbformat": 4,
 "nbformat_minor": 2
}
