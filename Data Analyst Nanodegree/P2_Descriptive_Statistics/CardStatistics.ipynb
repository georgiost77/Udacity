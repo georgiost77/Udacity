{
 "cells": [
  {
   "cell_type": "markdown",
   "metadata": {},
   "source": [
    "# Compute Statistics from Card Draws"
   ]
  },
  {
   "cell_type": "code",
   "execution_count": null,
   "metadata": {},
   "outputs": [],
   "source": [
    "import numpy as np\n",
    "import pandas as pd\n",
    "from enum import Enum\n",
    "import matplotlib\n",
    "import matplotlib.pyplot as plt\n",
    "\n",
    "# Source: https://docs.python.org/3.4/library/enum.html#orderedenum\n",
    "# https://github.com/hale/udacity-descriptive-statistics-project/blob/master/\n",
    "\n",
    "class OrderedEnum(Enum):\n",
    "    def __ge__(self, other):\n",
    "        if self.__class__ is other.__class__:\n",
    "            return self.value >= other.value\n",
    "        return NotImplemented\n",
    "    def __gt__(self, other):\n",
    "        if self.__class__ is other.__class__:\n",
    "            return self.value > other.value\n",
    "        return NotImplemented\n",
    "    def __le__(self, other):\n",
    "        if self.__class__ is other.__class__:\n",
    "            return self.value <= other.value\n",
    "        return NotImplemented\n",
    "    def __lt__(self, other):\n",
    "        if self.__class__ is other.__class__:\n",
    "            return self.value < other.value\n",
    "        return NotImplemented\n",
    "\n",
    "class Rank(OrderedEnum):\n",
    "    ace = 1\n",
    "    two = 2\n",
    "    three = 3\n",
    "    four = 4\n",
    "    five = 5\n",
    "    six = 6\n",
    "    seven = 7\n",
    "    eight = 8\n",
    "    nine = 9\n",
    "    ten = 10\n",
    "    jack = 11\n",
    "    queen = 12\n",
    "    king = 13\n",
    "    \n",
    "    @property\n",
    "    def score(self):\n",
    "        if (self.value <= 10):\n",
    "            return self.value\n",
    "        else:\n",
    "            return 10\n",
    "        \n",
    "Suit = OrderedEnum(\"Suit\", \"heart diamond club spade\")\n",
    "\n",
    "class Card(object):\n",
    "    def __init__(self, rank, suit):\n",
    "        self.rank = rank\n",
    "        self.suit = suit\n",
    "        \n",
    "    def __str__(self):\n",
    "        return \"{} of {}s\".format(self.rank.name.capitalize(), self.suit.name.capitalize())\n",
    "    \n",
    "    def __repr__(self):\n",
    "        return \"{} of {}s\".format(self.rank.name.capitalize(), self.suit.name.capitalize())\n",
    "    \n",
    "    def __value__(self):\n",
    "        return self.rank.score()\n",
    "\n",
    "class Deck(object):\n",
    "    def __init__(self):\n",
    "        self.cards = []\n",
    "        for suit in Suit:\n",
    "            for rank in Rank:\n",
    "                card = Card(rank, suit)\n",
    "                self.cards.append(card)\n",
    "                \n",
    "print(Deck().cards)"
   ]
  },
  {
   "cell_type": "code",
   "execution_count": null,
   "metadata": {},
   "outputs": [],
   "source": [
    "df = pd.DataFrame({'card': Deck().cards})\n",
    "df['suit'] = df.card.map(lambda c: c.suit)\n",
    "df['rank'] = df.card.map(lambda c: c.rank)\n",
    "df['score'] = df.card.map(lambda c: c.rank.score)\n",
    "df.tail()"
   ]
  },
  {
   "cell_type": "markdown",
   "metadata": {},
   "source": [
    "## Distribution of Card Values"
   ]
  },
  {
   "cell_type": "code",
   "execution_count": null,
   "metadata": {},
   "outputs": [],
   "source": [
    "# Create a histogram representing the relative frequencies of the card values from a single draw.\n",
    "%matplotlib inline\n",
    "df.hist()"
   ]
  },
  {
   "cell_type": "markdown",
   "metadata": {},
   "source": [
    "* What is the mean of the card values for a single draw?\n",
    "* What is the median of the card values for a single draw?\n",
    "* What is the standard deviation of the card values for a single draw? (population sd)"
   ]
  },
  {
   "cell_type": "code",
   "execution_count": null,
   "metadata": {},
   "outputs": [],
   "source": [
    "print(df.describe())\n",
    "print()\n",
    "print(df.median())\n",
    "print()\n",
    "print(df.std(ddof=0))"
   ]
  },
  {
   "cell_type": "markdown",
   "metadata": {},
   "source": [
    "## Get Samples from the Deck of Cards\n",
    "\n",
    "To obtain a single sample, shuffle your deck of cards and draw three cards from it. (You will be sampling from the deck without replacement.) Record the cards that you have drawn and the sum of the three cards’ values. Repeat this sampling procedure a total of at least thirty times."
   ]
  },
  {
   "cell_type": "code",
   "execution_count": null,
   "metadata": {},
   "outputs": [],
   "source": [
    "def get_sample(n = 3):\n",
    "    return df.reindex(np.random.permutation(df.index)).head(n)\n",
    "\n",
    "get_sample()"
   ]
  },
  {
   "cell_type": "code",
   "execution_count": null,
   "metadata": {},
   "outputs": [],
   "source": [
    "samples = []\n",
    "for _ in range(10000):\n",
    "    samples.append(get_sample()['score'].sum())\n",
    "\n",
    "samples = pd.Series(samples)"
   ]
  },
  {
   "cell_type": "markdown",
   "metadata": {},
   "source": [
    "## Distribution of Values"
   ]
  },
  {
   "cell_type": "code",
   "execution_count": null,
   "metadata": {},
   "outputs": [],
   "source": [
    "samples.describe()"
   ]
  },
  {
   "cell_type": "code",
   "execution_count": null,
   "metadata": {},
   "outputs": [],
   "source": [
    "samples.hist(bins = 26)"
   ]
  },
  {
   "cell_type": "markdown",
   "metadata": {},
   "source": [
    "The distribution of sample values is normal. This is because the distribution of sample means (or in this case, sums) is normal for any population. This is given by The Central Limit Theorem."
   ]
  },
  {
   "cell_type": "markdown",
   "metadata": {},
   "source": [
    "* What range of values do you expect 90% of three-card draw sums to fall into?"
   ]
  },
  {
   "cell_type": "markdown",
   "metadata": {},
   "source": [
    "90% of the draw values should fall within the 5th and 95th percentile. The z-scores that correspond to these percentiles are -1.645 and 1.645, respectively. For our estimated mean of 19.54 and our estimated standard deviation of 5.39, these z-scores correspond to:\n",
    "\n",
    "* z = (x - sample_mean) / SE => -1.645 = (x - 19.54) / 5.39 => x = 10.67\n",
    "* z = (x - sample_mean) / SE => 1.645 = (x - 19.54) / 5.39 => x = 28.41\n",
    "\n",
    "Therefore, we expect approximately 90% of the draw values to fall in the range (10.67, 28.41)."
   ]
  },
  {
   "cell_type": "markdown",
   "metadata": {},
   "source": [
    "* How likely are you to get a draw of at least 20 from a random draw?"
   ]
  },
  {
   "cell_type": "markdown",
   "metadata": {},
   "source": [
    "Using our estimated mean and standard deviation, 20 corresponds to a z-score of:\n",
    "\n",
    "* z = (x - sample_mean) / SE => z = (20 - 19.54) / 5.39 => z = 0.085\n",
    "\n",
    "Using this, we find that the probability that the draw value will be less than 20 is 0.534. Therefore, the probability that the draw value will be at least 20 is 0.466."
   ]
  }
 ],
 "metadata": {
  "kernelspec": {
   "display_name": "Python 3",
   "language": "python",
   "name": "python3"
  },
  "language_info": {
   "codemirror_mode": {
    "name": "ipython",
    "version": 3
   },
   "file_extension": ".py",
   "mimetype": "text/x-python",
   "name": "python",
   "nbconvert_exporter": "python",
   "pygments_lexer": "ipython3",
   "version": "3.7.9"
  }
 },
 "nbformat": 4,
 "nbformat_minor": 2
}
