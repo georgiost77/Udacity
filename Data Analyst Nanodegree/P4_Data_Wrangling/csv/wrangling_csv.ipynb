{
 "cells": [
  {
   "cell_type": "markdown",
   "metadata": {},
   "source": [
    "# Wrangling CSV\n",
    "## An example to show how to extract data from csv using python.\n",
    "First a csv file is downloaded from NREL (National Renewable Energy Laboratory) website. Each file\n",
    "contains information from one meteorological station, in particular - about amount of\n",
    "solar and wind energy for each hour of day.\n",
    "Note that the first line of the datafile is neither data entry, nor header. It is a line\n",
    "describing the data source. The name of the station is extracted from it.\n",
    "The data are returned as a list of lists (not dictionaries)."
   ]
  },
  {
   "cell_type": "code",
   "execution_count": null,
   "metadata": {},
   "outputs": [],
   "source": [
    "import csv\n",
    "\n",
    "DATAFILE = \"745090.csv\"\n",
    "\n",
    "# Create a function that extracts the data of interest.\n",
    "def parse_file(datafile):\n",
    "    name = \"\"\n",
    "    data = []\n",
    "    with open(datafile,'rt') as f:\n",
    "        reader = csv.reader(f)\n",
    "        # Get the string name from the first line (second item of the generated list).\n",
    "        name = next(reader)[1]\n",
    "        # Retrieve the next item from the iterator. Function next() generates a list.\n",
    "        next(reader)\n",
    "        for row in reader:\n",
    "            data.append(row)\n",
    "            \n",
    "    return (name, data)\n",
    "\n",
    "# Call the function and print output.\n",
    "print(parse_file(DATAFILE))"
   ]
  }
 ],
 "metadata": {
  "kernelspec": {
   "display_name": "Python 3",
   "language": "python",
   "name": "python3"
  },
  "language_info": {
   "codemirror_mode": {
    "name": "ipython",
    "version": 3
   },
   "file_extension": ".py",
   "mimetype": "text/x-python",
   "name": "python",
   "nbconvert_exporter": "python",
   "pygments_lexer": "ipython3",
   "version": "3.7.9"
  }
 },
 "nbformat": 4,
 "nbformat_minor": 2
}
