{
 "cells": [
  {
   "cell_type": "markdown",
   "metadata": {},
   "source": [
    "# Titanic Data Analysis\n",
    "## Overview\n",
    "The data have been obtained from the Kaggle website and contain demographics and passenger information from 891 of the 2224 passengers and crew on board the Titanic.\n",
    "### Data Dictionary Table\n",
    "|  Variable |  Definition                                  |  Key                                            |\n",
    "|-----------|----------------------------------------------|-------------------------------------------------|\n",
    "|  Survival |  Survival                                    |  0 = No, 1 = Yes                                |\n",
    "|  Pclass   |  Ticket class                                |  1 = 1st, 2 = 2nd, 3 = 3rd                      |\n",
    "|  Sex\t    |  Sex\t                                       |                                                 |\n",
    "|  Age\t    |  Age in years                                |                                                 |\n",
    "|  Sibsp    |  # of siblings / spouses aboard the Titanic  |                                                 |\n",
    "|  Parch    |  # of parents / children aboard the Titanic  |                                                 |\n",
    "|  Ticket   |  Ticket number                               |                                                 |\n",
    "|  Fare     |  Passenger fare                              |                                                 |\n",
    "|  Cabin    |  Cabin number                                |                                                 |\n",
    "|  Embarked |  Port of Embarkation                         |  C = Cherbourg, Q = Queenstown, S = Southampton |\n",
    "### Variable Notes\n",
    "\n",
    "**Pclass:** A proxy for socio-economic status (SES)\n",
    "1st = Upper\n",
    "2nd = Middle\n",
    "3rd = Lower\n",
    "\n",
    "**Age:** Age is fractional if less than 1. If the age is estimated, is it in the form of xx.5\n",
    "\n",
    "**Sibsp:** The dataset defines family relations in this way...\n",
    "Sibling = brother, sister, stepbrother, stepsister\n",
    "Spouse = husband, wife (mistresses and fiancés were ignored)\n",
    "\n",
    "**Parch:** The dataset defines family relations in this way...\n",
    "Parent = mother, father\n",
    "Child = daughter, son, stepdaughter, stepson\n",
    "Some children travelled only with a nanny, therefore parch=0 for them.\n",
    "\n",
    "## Exploring the factors that made people more likely to survive\n",
    "One of the reasons that the shipwreck led to such loss of life was that there were not enough lifeboats for the passengers and crew. Although there was some element of luck involved in surviving the sinking, some groups of people were more likely to survive than others, such as women, children, and the upper-class. Examining the Data Dictionary Table, the following questions can be considered as sanity checks for the survival chance:\n",
    "1. SES: How did socio-economic status affect the survival?\n",
    "2. Sex: Did female have a priority to lifeboats?\n",
    "3. Age: Did children have better chances to survive than adults?\n",
    "4. Family: Comparison of passengers travelling alone with those travelling with their family?\n",
    "5. Fare: How fare relates with SES?\n",
    "6. Crew: What happened to the crew?\n",
    "\n",
    "Finally, a hypothesis testing will be used to make more valid judgements for one of the above factors.\n",
    "\n",
    "## Load Data from CSV"
   ]
  },
  {
   "cell_type": "code",
   "execution_count": null,
   "metadata": {},
   "outputs": [],
   "source": [
    "# Import the required libraries\n",
    "import numpy as np\n",
    "import pandas as pd\n",
    "import matplotlib.pyplot as plt\n",
    "import seaborn as sns\n",
    "import cufflinks as cf\n",
    "import plotly\n",
    "from plotly.offline import download_plotlyjs, init_notebook_mode, iplot\n",
    "import plotly.figure_factory as ff\n",
    "from scipy.stats import ttest_ind\n",
    "\n",
    "# Initiate the Plotly Notebook mode.\n",
    "init_notebook_mode()\n",
    "\n",
    "# Show plots inline\n",
    "%pylab inline\n",
    "\n",
    "# Read in the data from titanic-data.csv and store the results in a variable.\n",
    "# Then look at the first 5 rows of the dataframe.\n",
    "titanic_df = pd.read_csv('titanic-data.csv')\n",
    "titanic_df.head()"
   ]
  },
  {
   "cell_type": "code",
   "execution_count": null,
   "metadata": {},
   "outputs": [],
   "source": [
    "# Generate some statistics.\n",
    "titanic_df.describe()"
   ]
  },
  {
   "cell_type": "markdown",
   "metadata": {},
   "source": [
    "## Investigating the Data\n",
    "Looking at the above tables, it can be clearly seen that there are some minor or major problems, such as missing values in the Cabin number column, as well as in the Age column. From the statistics table it can be easily computed that 20% of our age data are missing. In the following lines of code, it will be investigated:\n",
    "* the number of missing values,\n",
    "* the number of duplicated entries,\n",
    "* the type of data, and\n",
    "* if every value is in accordance with the Data Dictionary Table."
   ]
  },
  {
   "cell_type": "code",
   "execution_count": null,
   "metadata": {},
   "outputs": [],
   "source": [
    "# Count the NaN missing values in column Cabin.\n",
    "cabin_missing_values = titanic_df['Cabin'].isnull().sum()\n",
    "print('Number of missing values on Cabin column: {}'.format(cabin_missing_values))"
   ]
  },
  {
   "cell_type": "code",
   "execution_count": null,
   "metadata": {},
   "outputs": [],
   "source": [
    "# Detect if there are more missing values.\n",
    "missing_values = titanic_df.isnull().sum()\n",
    "print('Number of missing values: \\n{}'.format(missing_values))"
   ]
  },
  {
   "cell_type": "code",
   "execution_count": null,
   "metadata": {},
   "outputs": [],
   "source": [
    "# Find if there are any duplicated records\n",
    "duplicated_records = titanic_df.duplicated().sum()\n",
    "print('Number of duplicated records: {}'.format(duplicated_records))"
   ]
  },
  {
   "cell_type": "code",
   "execution_count": null,
   "metadata": {},
   "outputs": [],
   "source": [
    "# Check the data types\n",
    "titanic_df.dtypes"
   ]
  },
  {
   "cell_type": "code",
   "execution_count": null,
   "metadata": {},
   "outputs": [],
   "source": [
    "# Make a stripped down df with columns of interest, in order to look into their unique values.\n",
    "check_columns_df = titanic_df.drop(['PassengerId', 'Name', 'Age', 'Ticket', 'Fare', 'Cabin'], axis='columns')\n",
    "\n",
    "# A function that finds the unique values.\n",
    "def find_unique_entries(columnName):\n",
    "    print('Unique values of {} column'.format(columnName))\n",
    "    print(check_columns_df[columnName].unique())\n",
    "    print('')\n",
    "\n",
    "# Iterate over the check_columns df.\n",
    "for column in check_columns_df:\n",
    "    find_unique_entries(column)"
   ]
  },
  {
   "cell_type": "markdown",
   "metadata": {},
   "source": [
    "**Note:** From the previous analysis, it can be seen that there are not adequate Cabin data, hence it cannot be done any statistical analysis with these data. Additionally, any alphanumeric or irrelevant data with the analysis can be removed. On the other hand, it can be considered that there are still several Age entries to make statistical computations. There is also no need to fix any data types, as all the values are as expected.\n",
    "\n",
    "## Cleaning the Data\n",
    "Remove the columns that are considered irrelevant to the analysis."
   ]
  },
  {
   "cell_type": "code",
   "execution_count": null,
   "metadata": {},
   "outputs": [],
   "source": [
    "# Remove PassengerId, Name, Ticket, Cabin, Embarked columns and make a new stripped down df.\n",
    "titanic_cleaned_df = titanic_df.drop(['Name', 'Ticket', 'Cabin', 'Embarked'], axis='columns')\n",
    "titanic_cleaned_df = titanic_cleaned_df.rename(columns={'PassengerId':'Passengers'})\n",
    "titanic_cleaned_df.head()"
   ]
  },
  {
   "cell_type": "markdown",
   "metadata": {},
   "source": [
    "## Descriptive Statistics\n",
    "### Visualised Overview\n",
    "Create some plots to familiarise with the data."
   ]
  },
  {
   "cell_type": "code",
   "execution_count": null,
   "metadata": {},
   "outputs": [],
   "source": [
    "# Make a histogram of the passenger fares.\n",
    "plt.figure(figsize=(15,5)) # define the plots size\n",
    "plt.subplot(1,2,1) # Put first plot in first column of line.\n",
    "plt.hist(titanic_cleaned_df['Fare'], bins=70, alpha=0.7)\n",
    "plt.xlabel('Fare')\n",
    "plt.ylabel('Frequency')\n",
    "plt.title('Distribution of Fares')\n",
    "\n",
    "# Same histogram grouped by gender.\n",
    "plt.subplot(1,2,2) # Put second plot in second column of line.\n",
    "for Sex, Fare in titanic_cleaned_df.groupby('Sex')['Fare']:\n",
    "    Fare.hist(bins=70, alpha=0.5, label=Sex)\n",
    "plt.xlabel('Fare')\n",
    "plt.ylabel('Frequency')\n",
    "plt.title('Distribution of Fares by Gender')\n",
    "plt.legend()"
   ]
  },
  {
   "cell_type": "markdown",
   "metadata": {},
   "source": [
    "The histograms shows that the distribution of fares is positively skewed as it was expected. There are also several zero fares values. Likely, these entries belong to crew members."
   ]
  },
  {
   "cell_type": "code",
   "execution_count": null,
   "metadata": {},
   "outputs": [],
   "source": [
    "# Calculate the '0' fares.\n",
    "zero_fares = titanic_df.loc[titanic_df['Fare'] == 0]['Fare'].count()\n",
    "print('Number of zero fares: {}'.format(zero_fares))"
   ]
  },
  {
   "cell_type": "markdown",
   "metadata": {},
   "source": [
    "Create some bar charts to present the number of passengers by ticket class and family relations."
   ]
  },
  {
   "cell_type": "code",
   "execution_count": null,
   "metadata": {},
   "outputs": [],
   "source": [
    "# Make a function that creates a plot.\n",
    "def create_plot(column, byVariable=None):\n",
    "    sns.countplot(x=column, hue=byVariable, data=titanic_cleaned_df, palette='Set2', alpha=0.7)\n",
    "    plt.ylabel('Number of Passengers')\n",
    "    \n",
    "# Call the plot function to create several graphs.\n",
    "plt.figure(figsize=(15,10))\n",
    "plt.subplot2grid((2,2), (0,0))\n",
    "create_plot('Pclass')\n",
    "plt.xlabel('Ticket Class')\n",
    "plt.subplot2grid((2,2), (0,1))\n",
    "create_plot('Pclass', 'Sex')\n",
    "plt.xlabel('Ticket Class')\n",
    "plt.subplot2grid((2,2), (1,0))\n",
    "create_plot('SibSp')\n",
    "plt.xlabel('No. of Siblings / Spouses aboard the Titanic')\n",
    "plt.subplot2grid((2,2), (1,1))\n",
    "create_plot('Parch')\n",
    "plt.xlabel('No. of Parents / Children aboard the Titanic')"
   ]
  },
  {
   "cell_type": "markdown",
   "metadata": {},
   "source": [
    "Create a box chart of ticket class and age."
   ]
  },
  {
   "cell_type": "code",
   "execution_count": null,
   "metadata": {},
   "outputs": [],
   "source": [
    "# Create the box plot for Pclass and Age.\n",
    "plt.figure(figsize=(10,5))\n",
    "sns.boxplot(x='Pclass', y='Age', data=titanic_cleaned_df, palette='Set2')\n",
    "plt.xlabel('Ticket Class')"
   ]
  },
  {
   "cell_type": "markdown",
   "metadata": {},
   "source": [
    "Analyzing the previous box plot, it can be inferred that the median value of ticket class 1 is higher than that of class 2 and 3. It means that class 2 and 3 had younger passengers than class 1. Additionally, several outlier values appear in class 2 and 3."
   ]
  },
  {
   "cell_type": "markdown",
   "metadata": {},
   "source": [
    "### Answering the questions\n",
    "#### 1. Looking into the socio-economic status factor"
   ]
  },
  {
   "cell_type": "code",
   "execution_count": null,
   "metadata": {
    "scrolled": true
   },
   "outputs": [],
   "source": [
    "# Make a function that summarizes a df.\n",
    "def summarise_df(df, column):\n",
    "    # Aggregate columns using dict of {column -> function}.\n",
    "    sum_df = df.groupby([column], as_index=False)['Survived'].agg({'Passengers':'count',\\\n",
    "                                                                   'Survived':'sum'})\n",
    "    # Calculate percentage proportions.\n",
    "    sum_df['Percentage'] = round((sum_df['Survived']*100/sum_df['Passengers']), 2)\n",
    "        \n",
    "    return sum_df\n",
    "\n",
    "# Create a summarised ticket class table using plotly.\n",
    "plotly.offline.iplot(ff.create_table(summarise_df(titanic_cleaned_df, 'Pclass')))"
   ]
  },
  {
   "cell_type": "code",
   "execution_count": null,
   "metadata": {},
   "outputs": [],
   "source": [
    "# Use cufflinks with plotly to make interactive and visually better graphics.\n",
    "# Enable cufflinks offline mode.\n",
    "cf.go_offline()\n",
    "\n",
    "# Change cufflinks theme to pearl.\n",
    "cf.set_config_file(theme='pearl')\n",
    "\n",
    "# Make a function that creates a plot of a summarized df.\n",
    "def create_sum_plot(df, column, kind, xLabel):\n",
    "    summarised_df = summarise_df(df, column)\n",
    "    summarised_df.iplot(kind=kind, fill=True, x=column,\\\n",
    "                        y=['Passengers', 'Survived'],\\\n",
    "                        xTitle=xLabel, yTitle='Number of Passengers',\\\n",
    "                        title='Passengers Survival by {}'.format(xLabel))"
   ]
  },
  {
   "cell_type": "code",
   "execution_count": null,
   "metadata": {},
   "outputs": [],
   "source": [
    "# Call the previous function to create a plot that depicts the passengers survival by ticket class\n",
    "create_sum_plot(titanic_cleaned_df, 'Pclass', 'bar', 'Ticket Class')"
   ]
  },
  {
   "cell_type": "markdown",
   "metadata": {},
   "source": [
    "From the previous table and plot, it can be clearly seen that passengers with first class tickets had almost 3 times more chances to survive than the low 3rd class passengers and the 2nd class passengers had about the double.\n",
    "#### 2. Looking into the gender factor\n",
    "The following table shows that females survival rate was about 4 times greater than that of males."
   ]
  },
  {
   "cell_type": "code",
   "execution_count": null,
   "metadata": {},
   "outputs": [],
   "source": [
    "# Create a summarised by Sex table.\n",
    "plotly.offline.iplot(ff.create_table(summarise_df(titanic_cleaned_df, 'Sex')))"
   ]
  },
  {
   "cell_type": "markdown",
   "metadata": {},
   "source": [
    "#### 3. Looking into the age factor"
   ]
  },
  {
   "cell_type": "code",
   "execution_count": null,
   "metadata": {},
   "outputs": [],
   "source": [
    "# Create a line graph of the summarized age df.\n",
    "create_sum_plot(titanic_cleaned_df, 'Age', 'line', 'Age')"
   ]
  },
  {
   "cell_type": "markdown",
   "metadata": {},
   "source": [
    "A first glance shows that children had a better chance to survive than adults. A deeper comparison analysis in the survival rate of children and adults confirms this difference."
   ]
  },
  {
   "cell_type": "code",
   "execution_count": null,
   "metadata": {},
   "outputs": [],
   "source": [
    "# First, age missing values are removed to have more reliable statistics.\n",
    "age_df = titanic_cleaned_df.dropna()\n",
    "\n",
    "# # Group passengers to children and adults.\n",
    "children_df = age_df[age_df['Age'] < 18]\n",
    "adults_df = age_df[age_df['Age'] >= 18]\n",
    "\n",
    "# # Calculate the survival proportion of children and adults.\n",
    "children_survival_rate = round(len(children_df[children_df['Survived'] == 1])*100/len(children_df), 2)\n",
    "adults_survival_rate = round(len(adults_df[adults_df['Survived'] == 1])*100/len(adults_df), 2)\n",
    "\n",
    "print('Survival proportion of children: {}%'.format(children_survival_rate))\n",
    "print('Survival proportion of adults: {}%'.format(adults_survival_rate))"
   ]
  },
  {
   "cell_type": "markdown",
   "metadata": {},
   "source": [
    "#### 4. What happened to the families?"
   ]
  },
  {
   "cell_type": "code",
   "execution_count": null,
   "metadata": {},
   "outputs": [],
   "source": [
    "# Create a summarised by SibSp table.\n",
    "plotly.offline.iplot(ff.create_table(summarise_df(titanic_cleaned_df, 'SibSp')))"
   ]
  },
  {
   "cell_type": "code",
   "execution_count": null,
   "metadata": {},
   "outputs": [],
   "source": [
    "# Create a summarised by Parch table.\n",
    "plotly.offline.iplot(ff.create_table(summarise_df(titanic_cleaned_df, 'Parch')))"
   ]
  },
  {
   "cell_type": "code",
   "execution_count": null,
   "metadata": {},
   "outputs": [],
   "source": [
    "# Visualise the previous two tables.\n",
    "create_sum_plot(titanic_cleaned_df, 'SibSp', 'bar', 'No. of Siblings / Spouses Aboard the Titanic')\n",
    "create_sum_plot(titanic_cleaned_df, 'Parch', 'bar', 'No. of Parents / Children Aboard the Titanic')"
   ]
  },
  {
   "cell_type": "markdown",
   "metadata": {},
   "source": [
    "It seems that passengers travelled with a family had a better survival chance. The following comparison between solitary travellers and families clarifies that."
   ]
  },
  {
   "cell_type": "code",
   "execution_count": null,
   "metadata": {},
   "outputs": [],
   "source": [
    "# Group to passengers travelling with families and solitary passengers.\n",
    "families_df = titanic_cleaned_df[(titanic_cleaned_df['SibSp'] != 0) | (titanic_cleaned_df['Parch'] != 0)]\n",
    "solitary_df = titanic_cleaned_df[(titanic_cleaned_df['SibSp'] == 0) & (titanic_cleaned_df['Parch'] == 0)]\n",
    "\n",
    "# Calculate the survival rate.\n",
    "families_survival_rate = round(len(families_df[families_df['Survived'] == 1])*100/len(families_df), 2)\n",
    "solitary_survival_rate = round(len(solitary_df[solitary_df['Survived'] == 1])*100/len(solitary_df), 2)\n",
    "\n",
    "print('Survival proportion of passengers travelling with a family member: {}%'.format(families_survival_rate))\n",
    "print('Survival proportion of passengers travelling alone: {}%'.format(solitary_survival_rate))"
   ]
  },
  {
   "cell_type": "markdown",
   "metadata": {},
   "source": [
    "#### 5. Check the correlation between fare and SES?"
   ]
  },
  {
   "cell_type": "code",
   "execution_count": null,
   "metadata": {},
   "outputs": [],
   "source": [
    "# Find the correlation of the Fare with Pclass series.\n",
    "titanic_cleaned_df['Fare'].corr(titanic_cleaned_df['Pclass'])"
   ]
  },
  {
   "cell_type": "markdown",
   "metadata": {},
   "source": [
    "It seems that there is a moderate negative correlation between the fare and the ticket class, which is translated to a more expensive ticket for a higher class. Therefore, a corresponding better survival rate for the higher fare presumably expected."
   ]
  },
  {
   "cell_type": "markdown",
   "metadata": {},
   "source": [
    "#### 6. What happened to the crew?"
   ]
  },
  {
   "cell_type": "code",
   "execution_count": null,
   "metadata": {},
   "outputs": [],
   "source": [
    "# Select the passengers with a zero fare.\n",
    "titanic_df.loc[titanic_df['Fare'] == 0]"
   ]
  },
  {
   "cell_type": "markdown",
   "metadata": {},
   "source": [
    "A quick look at the above table shows that all these passengers were males, embarked from Southampton, travelling alone and only one of them survived. Additional info is required to confirm that these passengers were crew of the Titanic."
   ]
  },
  {
   "cell_type": "markdown",
   "metadata": {},
   "source": [
    "## Inferential Statistics\n",
    "### Hypothesis Testing\n",
    "The significance of Age variable will be checked using an unpaired t-test for children and adults. Assuming that children have better chances of survival than its population, the hypotheses are:\n",
    "\n",
    "H0: There is no significant difference in the chances of survival of children and adults.\n",
    "\n",
    "H1: There is a better chance of survival for children."
   ]
  },
  {
   "cell_type": "code",
   "execution_count": null,
   "metadata": {},
   "outputs": [],
   "source": [
    "# Summarise the age grouped dfs.\n",
    "children_sum_df = summarise_df(children_df, 'Age')\n",
    "adults_sum_df = summarise_df(adults_df, 'Age')\n",
    "\n",
    "# Find the variance.\n",
    "var_children = round(children_sum_df['Percentage'].var(), 0)\n",
    "var_adults = round(adults_sum_df['Percentage'].var(), 0)\n",
    "\n",
    "print('Variance of children survival percentage: {}'.format(var_children))\n",
    "print('Variance of adults survival percentage: {}'.format(var_adults))\n",
    "\n",
    "# Unpaired t-test with equal variance turned to false.\n",
    "two_sample_t_test = ttest_ind(children_sum_df['Percentage'], adults_sum_df['Percentage'], equal_var=False)\n",
    "\n",
    "print('')\n",
    "print('The t-statistic is %.5f and the p-value is %.5f.' % two_sample_t_test)"
   ]
  },
  {
   "cell_type": "markdown",
   "metadata": {},
   "source": [
    "Since p-values < .001, the null hypothesis can be rejected and these results are statistically significant. Consequently, children had better chances of survival than adults."
   ]
  },
  {
   "cell_type": "markdown",
   "metadata": {},
   "source": [
    "## Conclusions\n",
    "From the previous analysis it was deduced that:\n",
    "* Passengers with a higher ticket class had at least a double chance to survive.\n",
    "* Females had 4 times more chances to survive than the males.\n",
    "* Children had 1.4 times greater survival rate than adults.\n",
    "* Family passengers survival rate was 1.7 better than solitary ones.\n",
    "\n",
    "However, a statistically significant conclusion can be made only for the age factor, since the t-test indicated that children had obviously more posibilities to survive (with less than one in a thousand chance of being wrong).\n",
    "\n",
    "## References\n",
    "https://www.kaggle.com/c/titanic\n",
    "\n",
    "https://www.python.org/doc/\n",
    "\n",
    "http://pandas.pydata.org/pandas-docs/stable/\n",
    "\n",
    "http://matplotlib.org\n",
    "\n",
    "https://seaborn.pydata.org/\n",
    "\n",
    "https://plot.ly/python/\n",
    "\n",
    "http://stackoverflow.com"
   ]
  }
 ],
 "metadata": {
  "kernelspec": {
   "display_name": "Python 3",
   "language": "python",
   "name": "python3"
  },
  "language_info": {
   "codemirror_mode": {
    "name": "ipython",
    "version": 3
   },
   "file_extension": ".py",
   "mimetype": "text/x-python",
   "name": "python",
   "nbconvert_exporter": "python",
   "pygments_lexer": "ipython3",
   "version": "3.7.9"
  }
 },
 "nbformat": 4,
 "nbformat_minor": 2
}
