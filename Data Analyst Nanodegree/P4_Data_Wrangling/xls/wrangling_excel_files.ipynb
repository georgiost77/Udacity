{
 "cells": [
  {
   "cell_type": "markdown",
   "metadata": {},
   "source": [
    "# Wrangling Excel Files\n",
    "An example to show how to extract data from an excel file using xlrd library.\n",
    "The time and value of max load for each of the regions COAST, EAST, FAR_WEST, NORTH, NORTH_C, SOUTHERN, SOUTH_C, WEST are extracted. The result is saved in a csv file, using pipe character | as the delimiter."
   ]
  },
  {
   "cell_type": "code",
   "execution_count": null,
   "metadata": {},
   "outputs": [],
   "source": [
    "import xlrd\n",
    "import csv\n",
    "\n",
    "datafile = \"2013_ERCOT_Hourly_Load_Data.xls\"\n",
    "outfile = \"2013_Max_Loads.csv\"\n",
    "\n",
    "        \n",
    "def parse_file(datafile):\n",
    "    workbook = xlrd.open_workbook(datafile)\n",
    "    sheet = workbook.sheet_by_index(0)\n",
    "    data = [['Station','Year','Month','Day','Hour','Max Load']]\n",
    "    # Iterate from number=second_column to number=last_column_but_one.\n",
    "    for col in range(1, sheet.ncols-1):\n",
    "        # Get the column names Coast, East,...etc.\n",
    "        station = sheet.cell_value(0, col)\n",
    "        # Get all the column values.\n",
    "        column = sheet.col_values(col, start_rowx=1, end_rowx=sheet.nrows)\n",
    "        # Find the max value of each column.\n",
    "        max_value = max(column)\n",
    "        # Find the positions of max values.\n",
    "        max_index = column.index(max(column))\n",
    "        # Convert the Excel numbers which represent dates into tuples.\n",
    "        (year,month,day,hour,_,_) = xlrd.xldate_as_tuple(sheet.cell_value(max_index + 1, 0), 0)\n",
    "        data.append([station, year, month, day, hour, max_value])\n",
    "\n",
    "    return data\n",
    "\n",
    "def save_file(data, filename):\n",
    "    # Save the result in a csv file, using pipe character | as the delimiter.\n",
    "    with open(filename, 'wb') as f:\n",
    "        writer = csv.writer(f, delimiter='|')\n",
    "        writer.writerows(data)\n",
    "    \n",
    "    return None\n",
    "\n",
    "parse_file(datafile)"
   ]
  }
 ],
 "metadata": {
  "kernelspec": {
   "display_name": "Python 3",
   "language": "python",
   "name": "python3"
  },
  "language_info": {
   "codemirror_mode": {
    "name": "ipython",
    "version": 3
   },
   "file_extension": ".py",
   "mimetype": "text/x-python",
   "name": "python",
   "nbconvert_exporter": "python",
   "pygments_lexer": "ipython3",
   "version": "3.7.9"
  }
 },
 "nbformat": 4,
 "nbformat_minor": 2
}
